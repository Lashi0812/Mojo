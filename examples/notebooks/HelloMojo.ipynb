{
 "cells": [
  {
   "cell_type": "markdown",
   "metadata": {},
   "source": [
    "# Parameterization in Mojo\n",
    "\n",
    "Compile time meta-programming similar to template in C++.\n",
    "\n",
    "1. Parameter value are known at compile time. Parameter are specified using the `[]`\n",
    "2. Argument value are known at runtime."
   ]
  },
  {
   "cell_type": "code",
   "execution_count": 1,
   "metadata": {},
   "outputs": [
    {
     "name": "stdout",
     "output_type": "stream",
     "text": [
      "[5, 5, 5, 5]\n"
     ]
    }
   ],
   "source": [
    "let x = SIMD[DType.uint8,4](5)\n",
    "print(x)"
   ]
  },
  {
   "cell_type": "code",
   "execution_count": 2,
   "metadata": {},
   "outputs": [
    {
     "name": "stdout",
     "output_type": "stream",
     "text": [
      "4\n"
     ]
    }
   ],
   "source": [
    "print(len(x))"
   ]
  },
  {
   "cell_type": "code",
   "execution_count": 3,
   "metadata": {},
   "outputs": [
    {
     "name": "stdout",
     "output_type": "stream",
     "text": [
      "5\n",
      "5\n",
      "5\n",
      "5\n"
     ]
    }
   ],
   "source": [
    "for i in range(len(x)):\n",
    "    print(x[i])"
   ]
  },
  {
   "cell_type": "code",
   "execution_count": 4,
   "metadata": {},
   "outputs": [
    {
     "name": "stdout",
     "output_type": "stream",
     "text": [
      "uint8\n"
     ]
    }
   ],
   "source": [
    "print(x.element_type)"
   ]
  },
  {
   "cell_type": "code",
   "execution_count": 5,
   "metadata": {},
   "outputs": [
    {
     "name": "stdout",
     "output_type": "stream",
     "text": [
      "[25, 25, 25, 25]\n"
     ]
    }
   ],
   "source": [
    "print(x.fma(4,5))"
   ]
  },
  {
   "cell_type": "markdown",
   "metadata": {},
   "source": [
    "# Argument Control"
   ]
  },
  {
   "cell_type": "markdown",
   "metadata": {},
   "source": [
    "## Python def argument is Reference Semantic\n",
    "\n",
    "If pass the list to def function then i modified the list inside the def ,  this modification is visible outside the def also."
   ]
  },
  {
   "cell_type": "code",
   "execution_count": 6,
   "metadata": {},
   "outputs": [
    {
     "name": "stdout",
     "output_type": "stream",
     "text": [
      "Before Change            : [1, 2, 3, 4]\n",
      "Value return by def      : [1, 2, 30, 4]\n",
      "After Change             : [1, 2, 30, 4]\n"
     ]
    }
   ],
   "source": [
    "%%python\n",
    "a = [1,2,3,4]\n",
    "print(f\"{'Before Change ':<25s}:\",a)\n",
    "def change(a):\n",
    "    a[2]  = 30\n",
    "    return a\n",
    "print(f\"{'Value return by def':<25s}:\",change(a))\n",
    "print(f\"{'After Change ':<25s}:\",a)\n"
   ]
  },
  {
   "cell_type": "markdown",
   "metadata": {},
   "source": [
    "change is persisted outside the function"
   ]
  },
  {
   "cell_type": "markdown",
   "metadata": {},
   "source": [
    "## Mojo def argument is Value Semantic\n",
    "def function receive the copy of the argument you can modify the value but the modification in visible to outside."
   ]
  },
  {
   "cell_type": "code",
   "execution_count": 7,
   "metadata": {},
   "outputs": [
    {
     "name": "stdout",
     "output_type": "stream",
     "text": [
      "Before Change            : [1, 2, 3, 4]\n",
      "Value return by def      : [1, 2, 30, 4]\n",
      "After Change             : [1, 2, 3, 4]\n"
     ]
    }
   ],
   "source": [
    "var mojo_simd = SIMD[DType.uint8,4](1,2,3,4)\n",
    "print(\"Before Change            :\",mojo_simd)\n",
    "\n",
    "def def_mojo_change[ty:DType,width:Int](a:SIMD[ty,width]) -> SIMD[ty,width]:\n",
    "    a[2] = 30\n",
    "    return a\n",
    "\n",
    "print(\"Value return by def      :\",def_mojo_change(mojo_simd))\n",
    "print(\"After Change             :\",mojo_simd)"
   ]
  },
  {
   "cell_type": "markdown",
   "metadata": {},
   "source": [
    "change is not persisted outside the func"
   ]
  },
  {
   "cell_type": "markdown",
   "metadata": {},
   "source": [
    "## Mojo fn argument is Immutable Reference\n",
    "argument receive the original object but you cant modify the object"
   ]
  },
  {
   "cell_type": "code",
   "execution_count": 8,
   "metadata": {},
   "outputs": [
    {
     "name": "stdout",
     "output_type": "stream",
     "text": [
      "Before Change            : [1, 2, 3, 4]\n",
      "You can read             : 3\n",
      "Value return by fn       : [1, 2, 3, 4]\n",
      "After Change             : [1, 2, 3, 4]\n"
     ]
    }
   ],
   "source": [
    "var mojo_simd = SIMD[DType.uint8,4](1,2,3,4)\n",
    "print(\"Before Change            :\",mojo_simd)\n",
    "\n",
    "fn fn_mojo_change[ty:DType,width:Int](a:SIMD[ty,width]) -> SIMD[ty,width]:\n",
    "    # uncomment this to see error\n",
    "    # a[2] = 30\n",
    "    print(\"You can read             :\",a[2])\n",
    "    return a\n",
    "\n",
    "print(\"Value return by fn       :\",fn_mojo_change(mojo_simd))\n",
    "print(\"After Change             :\",mojo_simd)"
   ]
  },
  {
   "cell_type": "markdown",
   "metadata": {},
   "source": [
    "uncomment assign, then complier will throw error "
   ]
  },
  {
   "cell_type": "markdown",
   "metadata": {},
   "source": [
    "## Borrowed(Immutable argument)\n",
    "\n",
    "1. fn argument are immutable , this is done by `borrowed` keyword which is default for the fn.\n",
    "2. this functionally much similar to the `const &` in C++.\n",
    "3. Borrowed use to control the ownership of the argument only  `read and execute` access but no `write` access."
   ]
  },
  {
   "cell_type": "code",
   "execution_count": 9,
   "metadata": {},
   "outputs": [
    {
     "name": "stdout",
     "output_type": "stream",
     "text": [
      "Before Change            : [1, 2, 3, 4]\n",
      "You can read             : 3\n",
      "Value return by fn       : [1, 2, 3, 4]\n",
      "After Change             : [1, 2, 3, 4]\n"
     ]
    }
   ],
   "source": [
    "var mojo_simd = SIMD[DType.uint8,4](1,2,3,4)\n",
    "print(\"Before Change            :\",mojo_simd)\n",
    "\n",
    "# borrowed kweyword in default\n",
    "fn fn_borrowed[ty:DType,width:Int](borrowed a:SIMD[ty,width]) -> SIMD[ty,width]:\n",
    "    # uncomment this to see error\n",
    "    # a[2] = 30\n",
    "    print(\"You can read             :\",a[2])\n",
    "    return a\n",
    "\n",
    "print(\"Value return by fn       :\",fn_borrowed(mojo_simd))\n",
    "print(\"After Change             :\",mojo_simd)"
   ]
  },
  {
   "cell_type": "markdown",
   "metadata": {},
   "source": [
    "## InOut (Mutable argument)\n",
    "\n",
    "1. if the fn argument is immutable then how we are going to in place addition and other stuff.\n",
    "2. This done by `inout` keyword . argument can modified INside the function and modification  is visible OUTside the function."
   ]
  },
  {
   "cell_type": "code",
   "execution_count": 10,
   "metadata": {},
   "outputs": [
    {
     "name": "stdout",
     "output_type": "stream",
     "text": [
      "Before Change            : [1, 2, 3, 4]\n",
      "Value return by fn       : [1, 2, 30, 4]\n",
      "After Change             : [1, 2, 30, 4]\n"
     ]
    }
   ],
   "source": [
    "var mojo_simd = SIMD[DType.uint8,4](1,2,3,4)\n",
    "print(\"Before Change            :\",mojo_simd)\n",
    "\n",
    "# borrowed kweyword in default\n",
    "fn fn_inout[ty:DType,width:Int](inout a:SIMD[ty,width]) -> SIMD[ty,width]:\n",
    "    a[2] = 30\n",
    "    return a\n",
    "\n",
    "print(\"Value return by fn       :\",fn_inout(mojo_simd))\n",
    "print(\"After Change             :\",mojo_simd)"
   ]
  },
  {
   "cell_type": "markdown",
   "metadata": {},
   "source": [
    "## Using MLIR Dialects inside the mojo\n",
    "\n",
    "[Refer Index Dialects](https://mlir.llvm.org/docs/Dialects/IndexOps/)\n",
    "\n",
    "1. Operation\n",
    "2. Types\n",
    "3. Attribute"
   ]
  },
  {
   "cell_type": "code",
   "execution_count": 12,
   "metadata": {},
   "outputs": [
    {
     "name": "stdout",
     "output_type": "stream",
     "text": [
      "142\n"
     ]
    }
   ],
   "source": [
    "var lhs:__mlir_type.index = __mlir_attr.`42:index`\n",
    "var rhs:__mlir_type.index = __mlir_attr.`100:index`\n",
    "\n",
    "add_result = __mlir_op.`index.add`(lhs,rhs)\n",
    "print(add_result)"
   ]
  },
  {
   "cell_type": "code",
   "execution_count": 20,
   "metadata": {},
   "outputs": [
    {
     "name": "stderr",
     "output_type": "stream",
     "text": [
      "error: \u001b[0;1;31m\u001b[1mExpression [20]:29:81: \u001b[0m\u001b[1mcannot be converted to LLVM IR: missing `LLVMTranslationDialectInterface` registration for dialect for op: arith.addi\n",
      "\u001b[0m    var add_result:__mlir_type.i8 = __mlir_op.`arith.addi`[_type:__mlir_type.i8](int_lhs,int_rhs)\n",
      "\u001b[0;1;32m                                                                                ^\n",
      "\u001b[0m\u001b[0m\n",
      "expression failed to parse (no further compiler diagnostics)"
     ]
    }
   ],
   "source": [
    "var int_lhs:__mlir_type.i8 = __mlir_attr.`42:i8`\n",
    "var int_rhs:__mlir_type.i8 = __mlir_attr.`100:i8`\n",
    "\n",
    "# var add_result:__mlir_type.i8 = __mlir_op.`arith.addi`[_type:__mlir_type.i8](int_lhs,int_rhs)\n",
    "# this throws error **cannot be converted to LLVM IR: missing `LLVMTranslationDialectInterface` registration for dialect for op: arith.addi**"
   ]
  },
  {
   "cell_type": "code",
   "execution_count": null,
   "metadata": {},
   "outputs": [],
   "source": []
  }
 ],
 "metadata": {
  "kernelspec": {
   "display_name": "Mojo",
   "language": "mojo",
   "name": "mojo-jupyter-kernel"
  },
  "language_info": {
   "codemirror_mode": {
    "name": "mojo"
   },
   "file_extension": ".mojo",
   "mimetype": "text/x-mojo",
   "name": "mojo"
  },
  "orig_nbformat": 4
 },
 "nbformat": 4,
 "nbformat_minor": 2
}
