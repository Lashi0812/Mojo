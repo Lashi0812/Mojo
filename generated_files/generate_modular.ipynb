{
 "cells": [
  {
   "cell_type": "code",
   "execution_count": 7,
   "metadata": {},
   "outputs": [],
   "source": [
    "from pathlib import Path"
   ]
  },
  {
   "cell_type": "code",
   "execution_count": 8,
   "metadata": {},
   "outputs": [],
   "source": [
    "with open(\"/workspaces/Mojo/generated_files/files_included_in_mojo.txt\",\"r\") as f:\n",
    "    for file in f.readlines():\n",
    "        (Path.cwd()/Path(file.rstrip())).parent.mkdir(parents=True,exist_ok=True)\n",
    "        (Path.cwd()/Path(file.rstrip())).touch()"
   ]
  },
  {
   "cell_type": "code",
   "execution_count": 9,
   "metadata": {},
   "outputs": [
    {
     "name": "stdout",
     "output_type": "stream",
     "text": [
      "/workspaces/Mojo/generated_files/modular/modular/LLCL/lib/Runtime/Globals/CompactRuntimeTable.cpp\n",
      "/workspaces/Mojo/generated_files/modular/modular/Support/lib/MicroBenchmark.cpp\n",
      "/workspaces/Mojo/generated_files/modular/modular/Support/include/Support/MathExtras.h\n",
      "/workspaces/Mojo/generated_files/modular/modular/LLCL/lib/Runtime/RuntimeCLOptions.cpp\n",
      "/workspaces/Mojo/generated_files/modular/modular/LLCL/lib/Support/Resource.cpp\n",
      "/workspaces/Mojo/generated_files/modular/modular/third-party/llvm-project/llvm/include/llvm/ADT/AddressRanges.h\n",
      "/workspaces/Mojo/generated_files/modular/modular/LLCL/include/LLCL/Support/Resource.h\n",
      "/workspaces/Mojo/generated_files/modular/modular/third-party/llvm-project/llvm/lib/Support/APFixedPoint.cpp\n",
      "/workspaces/Mojo/generated_files/modular/modular/third-party/llvm-project/llvm/include/llvm/ADT/APFixedPoint.h\n",
      "/workspaces/Mojo/generated_files/modular/modular/third-party/llvm-project/llvm/lib/Support/APSInt.cpp\n",
      "/workspaces/Mojo/generated_files/modular/modular/third-party/llvm-project/llvm/include/llvm/Support/ARMWinEH.h\n",
      "/workspaces/Mojo/generated_files/modular/modular/third-party/llvm-project/llvm/lib/Support/BalancedPartitioning.cpp\n",
      "/workspaces/Mojo/generated_files/modular/modular/third-party/llvm-project/llvm/lib/Support/ConvertEBCDIC.cpp\n",
      "/workspaces/Mojo/generated_files/modular/modular/third-party/llvm-project/llvm/lib/Support/DAGDeltaAlgorithm.cpp\n",
      "/workspaces/Mojo/generated_files/modular/modular/third-party/llvm-project/llvm/lib/Support/FileCollector.cpp\n",
      "/workspaces/Mojo/generated_files/modular/modular/third-party/llvm-project/llvm/lib/Support/Parallel.cpp\n",
      "/workspaces/Mojo/generated_files/modular/modular/third-party/llvm-project/llvm/include/llvm/Support/Parallel.h\n",
      "/workspaces/Mojo/generated_files/modular/modular/third-party/llvm-project/llvm/lib/Support/PluginLoader.cpp\n",
      "/workspaces/Mojo/generated_files/modular/modular/third-party/llvm-project/llvm/lib/Support/UnicodeNameToCodepoint.cpp\n",
      "/workspaces/Mojo/generated_files/modular/modular/KGEN/lib/CompilerRT/OutputChain.cpp\n"
     ]
    }
   ],
   "source": [
    "with open(\"/workspaces/Mojo/generated_files/files_included_in_kgen_static.txt\",\"r\") as f:\n",
    "    for file in f.readlines():\n",
    "        (Path.cwd()/Path(file.rstrip())).parent.mkdir(parents=True,exist_ok=True)\n",
    "        if not (Path.cwd()/Path(file.rstrip())).is_file():\n",
    "            print((Path.cwd()/Path(file.rstrip())))\n",
    "            (Path.cwd()/Path(file.rstrip())).touch()"
   ]
  },
  {
   "cell_type": "code",
   "execution_count": 10,
   "metadata": {},
   "outputs": [],
   "source": [
    "with open(\"/workspaces/Mojo/generated_files/files_included_in_kgen_shared.txt\",\"r\") as f:\n",
    "    for file in f.readlines():\n",
    "        (Path.cwd()/Path(file.rstrip())).parent.mkdir(parents=True,exist_ok=True)\n",
    "        if not (Path.cwd()/Path(file.rstrip())).is_file():\n",
    "            print((Path.cwd()/Path(file.rstrip())))\n",
    "            (Path.cwd()/Path(file.rstrip())).touch()"
   ]
  },
  {
   "cell_type": "code",
   "execution_count": 13,
   "metadata": {},
   "outputs": [],
   "source": [
    "with open(\"/workspaces/Mojo/generated_files/files_included_in_mojo_global.txt\",\"r\") as f:\n",
    "    for file in f.readlines():\n",
    "        (Path.cwd()/Path(file.rstrip())).parent.mkdir(parents=True,exist_ok=True)\n",
    "        if not (Path.cwd()/Path(file.rstrip())).is_file():\n",
    "            print((Path.cwd()/Path(file.rstrip())))\n",
    "            (Path.cwd()/Path(file.rstrip())).touch()"
   ]
  },
  {
   "cell_type": "code",
   "execution_count": 14,
   "metadata": {},
   "outputs": [
    {
     "name": "stdout",
     "output_type": "stream",
     "text": [
      "/workspaces/Mojo/generated_files/modular/modular/third-party/llvm-project/lldb/include/lldb/Core/Debugger.h\n"
     ]
    }
   ],
   "source": [
    "with open(\"/workspaces/Mojo/generated_files/files_included_in_mojo_jupyter.txt\",\"r\") as f:\n",
    "    for file in f.readlines():\n",
    "        (Path.cwd()/Path(file.rstrip())).parent.mkdir(parents=True,exist_ok=True)\n",
    "        if not (Path.cwd()/Path(file.rstrip())).is_file():\n",
    "            print((Path.cwd()/Path(file.rstrip())))\n",
    "            (Path.cwd()/Path(file.rstrip())).touch()"
   ]
  },
  {
   "cell_type": "code",
   "execution_count": 15,
   "metadata": {},
   "outputs": [
    {
     "name": "stdout",
     "output_type": "stream",
     "text": [
      "/workspaces/Mojo/generated_files/modular/modular/KGEN/lib/MojoLLDB/ExpressionParser/JITExecutionUnit.cpp\n",
      "/workspaces/Mojo/generated_files/modular/modular/KGEN/lib/MojoLLDB/ExpressionParser/JITUserExpression.cpp\n",
      "/workspaces/Mojo/generated_files/modular/modular/KGEN/lib/MojoLLDB/ExpressionParser/MojoExpressionParser.cpp\n",
      "/workspaces/Mojo/generated_files/modular/modular/third-party/llvm-project/lldb/include/lldb/Symbol/CompilerType.h\n",
      "/workspaces/Mojo/generated_files/modular/modular/KGEN/lib/MojoLLDB/ExpressionParser/MojoExpressionVariable.cpp\n",
      "/workspaces/Mojo/generated_files/modular/modular/KGEN/lib/MojoLLDB/ExpressionParser/MojoUserExpression.cpp\n",
      "/workspaces/Mojo/generated_files/modular/modular/KGEN/lib/MojoLLDB/REPL/MojoREPL.cpp\n",
      "/workspaces/Mojo/generated_files/modular/modular/KGEN/lib/MojoLLDB/TypeSystem/MojoTypeSystem.cpp\n",
      "/workspaces/Mojo/generated_files/modular/modular/third-party/llvm-project/mlir/include/mlir/IR/Operation.h\n",
      "/workspaces/Mojo/generated_files/modular/modular/KGEN/lib/MojoParser/ParserDriverREPL.cpp\n",
      "/workspaces/Mojo/generated_files/modular/modular/third-party/llvm-project/llvm/lib/ExecutionEngine/ExecutionEngine.cpp\n",
      "/workspaces/Mojo/generated_files/modular/modular/third-party/llvm-project/llvm/include/llvm/ExecutionEngine/ExecutionEngine.h\n",
      "/workspaces/Mojo/generated_files/modular/modular/third-party/llvm-project/llvm/lib/ExecutionEngine/SectionMemoryManager.cpp\n",
      "/workspaces/Mojo/generated_files/modular/modular/third-party/llvm-project/llvm/lib/ExecutionEngine/MCJIT/MCJIT.cpp\n",
      "/workspaces/Mojo/generated_files/modular/modular/third-party/llvm-project/llvm/lib/ExecutionEngine/MCJIT/MCJIT.h\n",
      "/workspaces/Mojo/generated_files/modular/modular/third-party/llvm-project/llvm/include/llvm/ExecutionEngine/RuntimeDyld.h\n",
      "/workspaces/Mojo/generated_files/modular/modular/.derived\n",
      "/workspaces/Mojo/generated_files/modular/modular/.derived/build-release/_deps/crashpad-src/client/pthread_create_linux.cc\n",
      "/workspaces/Mojo/generated_files/modular/modular/third-party/llvm-project/mlir/lib/Pass/IRPrinting.cpp\n",
      "/workspaces/Mojo/generated_files/modular/modular/third-party/llvm-project/llvm/lib/ExecutionEngine/GDBRegistrationListener.cpp\n",
      "/workspaces/Mojo/generated_files/modular/modular/third-party/llvm-project/llvm/lib/ProfileData/InstrProfCorrelator.cpp\n",
      "/workspaces/Mojo/generated_files/modular/modular/third-party/llvm-project/llvm/include/llvm/DebugInfo/DWARF/DWARFListTable.h\n",
      "/workspaces/Mojo/generated_files/modular/modular/third-party/llvm-project/llvm/lib/DebugInfo/DWARF/DWARFDebugFrame.cpp\n",
      "/workspaces/Mojo/generated_files/modular/modular/third-party/llvm-project/llvm/lib/ExecutionEngine/RuntimeDyld/RuntimeDyldMachO.cpp\n",
      "/workspaces/Mojo/generated_files/modular/modular/third-party/llvm-project/llvm/lib/ExecutionEngine/RuntimeDyld/Targets/RuntimeDyldMachOARM.h\n",
      "/workspaces/Mojo/generated_files/modular/modular/third-party/llvm-project/llvm/lib/ExecutionEngine/RuntimeDyld/Targets/RuntimeDyldMachOAArch64.h\n",
      "/workspaces/Mojo/generated_files/modular/modular/third-party/llvm-project/llvm/lib/ExecutionEngine/RuntimeDyld/Targets/RuntimeDyldMachOI386.h\n",
      "/workspaces/Mojo/generated_files/modular/modular/third-party/llvm-project/llvm/lib/ExecutionEngine/RuntimeDyld/Targets/RuntimeDyldMachOX86_64.h\n",
      "/workspaces/Mojo/generated_files/modular/modular/third-party/llvm-project/llvm/lib/ExecutionEngine/RuntimeDyld/Targets/RuntimeDyldELFMips.cpp\n",
      "/workspaces/Mojo/generated_files/modular/modular/third-party/llvm-project/llvm/lib/Remarks/BitstreamRemarkParser.cpp\n"
     ]
    }
   ],
   "source": [
    "with open(\"/workspaces/Mojo/generated_files/files_included_in_mojo_lldb.txt\",\"r\") as f:\n",
    "    for file in f.readlines():\n",
    "        (Path.cwd()/Path(file.rstrip())).parent.mkdir(parents=True,exist_ok=True)\n",
    "        if not (Path.cwd()/Path(file.rstrip())).is_file():\n",
    "            print((Path.cwd()/Path(file.rstrip())))\n",
    "            (Path.cwd()/Path(file.rstrip())).touch()"
   ]
  },
  {
   "cell_type": "code",
   "execution_count": null,
   "metadata": {},
   "outputs": [],
   "source": []
  }
 ],
 "metadata": {
  "kernelspec": {
   "display_name": "Python 3",
   "language": "python",
   "name": "python3"
  },
  "language_info": {
   "codemirror_mode": {
    "name": "ipython",
    "version": 3
   },
   "file_extension": ".py",
   "mimetype": "text/x-python",
   "name": "python",
   "nbconvert_exporter": "python",
   "pygments_lexer": "ipython3",
   "version": "3.10.12"
  },
  "orig_nbformat": 4
 },
 "nbformat": 4,
 "nbformat_minor": 2
}
